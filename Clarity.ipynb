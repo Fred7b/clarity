{
 "cells": [
  {
   "cell_type": "code",
   "execution_count": 1,
   "metadata": {},
   "outputs": [],
   "source": [
    "import pandas as pd\n",
    "import numpy as np\n",
    "import matplotlib.pyplot as plt\n",
    "import os\n",
    "import time\n",
    "import cv2"
   ]
  },
  {
   "cell_type": "code",
   "execution_count": 2,
   "metadata": {},
   "outputs": [],
   "source": [
    "# edges\n",
    "def edges(n, orient):\n",
    "    edges = np.ones((2*n, 2*n, 3))\n",
    "    \n",
    "    if orient == 'vert':\n",
    "        for i in range(0, 2*n):\n",
    "            edges[i][n: 2*n] *= -1\n",
    "    elif orient == 'horiz':\n",
    "        edges[n: 2*n] *= -1\n",
    "    \n",
    "    return edges"
   ]
  },
  {
   "cell_type": "code",
   "execution_count": 3,
   "metadata": {},
   "outputs": [],
   "source": [
    "# Apply one filter defined by parameters W and single slice\n",
    "def conv_single_step(a_slice_prev, W):\n",
    "    s = W * a_slice_prev\n",
    "    Z = np.sum(s)\n",
    "    Z = np.abs(Z)\n",
    "    \n",
    "    return Z"
   ]
  },
  {
   "cell_type": "code",
   "execution_count": 4,
   "metadata": {},
   "outputs": [],
   "source": [
    "# Full edge filter\n",
    "def conv_forward(A_prev, W, hparameters):\n",
    "    m = len(A_prev)\n",
    "    (f, f, n_C) = W.shape\n",
    "    stride = hparameters['stride']\n",
    "    pad = hparameters['pad']\n",
    "    \n",
    "    Z = list()\n",
    "    flag = 0\n",
    "    z_max = hparameters['z_max']\n",
    "    \n",
    "    if len(z_max) == 0:\n",
    "        z_max = list()\n",
    "        flag = 1\n",
    "    \n",
    "    for i in range(m):\n",
    "        \n",
    "        (x0, x1, x2) = A_prev[i].shape\n",
    "        A_prev_pad = A_prev[i][ \n",
    "                            int(x0 / 4) : int(x0 * 3 / 4), \n",
    "                            int(x1 / 4) : int(x1 * 3 / 4), \n",
    "                            :]\n",
    "        \n",
    "        (n_H_prev, n_W_prev, n_C_prev) = A_prev_pad.shape\n",
    "        n_H = int((n_H_prev - f + 2*pad) / stride) + 1\n",
    "        n_W = int((n_W_prev - f + 2*pad) / stride) + 1\n",
    "        z = np.zeros((n_H, n_W))\n",
    "        \n",
    "        a_prev_pad = A_prev_pad\n",
    "        \n",
    "        for h in range(n_H):\n",
    "            vert_start = h * stride\n",
    "            vert_end = h * stride + f\n",
    "            \n",
    "            for w in range(n_W):\n",
    "                horiz_start = w * stride\n",
    "                horiz_end = w * stride + f\n",
    "                \n",
    "               \n",
    "                a_slice_prev = a_prev_pad[vert_start: vert_end, horiz_start: horiz_end, :]\n",
    "\n",
    "                weights = W[:, :, :]\n",
    "                z[h, w] = conv_single_step(a_slice_prev, weights)\n",
    "        \n",
    "        if flag == 1:\n",
    "            z_max.append(np.max(z))\n",
    "        Z.append(z / z_max[i])\n",
    "        \n",
    "    cache = (A_prev, W, hparameters)\n",
    "    \n",
    "    return Z, z_max, cache"
   ]
  },
  {
   "cell_type": "code",
   "execution_count": 5,
   "metadata": {},
   "outputs": [],
   "source": [
    "# pooling\n",
    "def pool_forward(A_prev, hparameters, mode = 'max'):\n",
    "    m = len(A_prev)\n",
    "    f = hparameters['f']\n",
    "    stride = hparameters['stride']\n",
    "    \n",
    "    A = list()\n",
    "    \n",
    "    for i in range(m):\n",
    "        (n_H_prev, n_W_prev) = A_prev[i].shape\n",
    "        \n",
    "        n_H = int(1 + (n_H_prev - f) / stride)\n",
    "        n_W = int(1 + (n_W_prev - f) / stride)\n",
    "        \n",
    "        a = np.zeros((n_H, n_W))\n",
    "        \n",
    "        for h in range(n_H):\n",
    "            vert_start = h * stride\n",
    "            vert_end = h * stride + f\n",
    "            \n",
    "            for w in range(n_W):\n",
    "                horiz_start = w * stride\n",
    "                horiz_end = w * stride + f\n",
    "                \n",
    "                a_prev_slice = A_prev[i][vert_start: vert_end, horiz_start: horiz_end]\n",
    "\n",
    "                if mode == 'max':\n",
    "                    a[h, w] = np.max(a_prev_slice)\n",
    "                elif mode == 'avg':\n",
    "                    a[h, w] = np.mean(a_prev_slice)\n",
    "                        \n",
    "        A.append(a)\n",
    "\n",
    "    cache = (A_prev, hparameters)\n",
    "    \n",
    "    return A, cache"
   ]
  },
  {
   "cell_type": "code",
   "execution_count": 6,
   "metadata": {},
   "outputs": [],
   "source": [
    "# First layer\n",
    "\n",
    "def borders(images, filter_size = 1, pad = 0, stride = 1, pool_stride = 2, pool_size = 2, z_max = []):\n",
    "    Wv = edges(filter_size, 'vert')\n",
    "    hparameters = {'pad': pad, 'stride': stride, 'pool_stride': pool_stride, 'f': pool_size, 'z_max': z_max}\n",
    "    Z, z_max_v, _ = conv_forward(images, Wv, hparameters)\n",
    "    \n",
    "    print('edge filter applied')\n",
    "    \n",
    "    hparameters_pool = {'stride': pool_stride, 'f': pool_size}\n",
    "    Av, _ = pool_forward(Z, hparameters_pool, mode = 'max')\n",
    "    \n",
    "    print('vertical filter applied')\n",
    "    \n",
    "    Wh = edges(filter_size, 'horiz')\n",
    "    hparameters = {'pad': pad, 'stride': stride, 'pool_stride': pool_stride, 'f': pool_size, 'z_max': z_max}\n",
    "    Z, z_max_h, _ = conv_forward(images, Wh, hparameters)\n",
    "    \n",
    "    print('edge filter applied')\n",
    "    \n",
    "    hparameters_pool = {'stride': pool_stride, 'f': pool_size}\n",
    "    Ah, _ = pool_forward(Z, hparameters_pool, mode = 'max')\n",
    "    \n",
    "    print('horizontal filter applied')   \n",
    "    \n",
    "    return [(Av[i] + Ah[i]) / 2 for i in range(len(Av))], list(map(np.max, zip(z_max_v, z_max_h)))"
   ]
  },
  {
   "cell_type": "code",
   "execution_count": 69,
   "metadata": {},
   "outputs": [
    {
     "name": "stdout",
     "output_type": "stream",
     "text": [
      "--- 12.022917985916138 seconds ---\n"
     ]
    }
   ],
   "source": [
    "start_time = time.time()\n",
    "\n",
    "directory = 'C:\\\\'\n",
    "img_names = os.listdir(directory)[500:600]\n",
    "images = list()\n",
    "for img in img_names:\n",
    "    images.append(plt.imread(directory + img))\n",
    "    \n",
    "len(images)\n",
    "\n",
    "print(\"--- %s seconds ---\" % (time.time() - start_time))"
   ]
  },
  {
   "cell_type": "code",
   "execution_count": 70,
   "metadata": {
    "scrolled": true
   },
   "outputs": [
    {
     "name": "stdout",
     "output_type": "stream",
     "text": [
      "edge filter applied\n",
      "vertical filter applied\n",
      "edge filter applied\n",
      "horizontal filter applied\n",
      "original image borders is calculated\n"
     ]
    }
   ],
   "source": [
    "start_time = time.time()\n",
    "\n",
    "z_max = []\n",
    "\n",
    "img, z_max = borders(images, filter_size = 2, stride = 3, pool_stride = 2, pool_size = 2)\n",
    "print('original image borders is calculated')"
   ]
  },
  {
   "cell_type": "code",
   "execution_count": 71,
   "metadata": {},
   "outputs": [
    {
     "name": "stdout",
     "output_type": "stream",
     "text": [
      "images blurred\n"
     ]
    }
   ],
   "source": [
    "blurred_img = [cv2.GaussianBlur(x, (57, 57), 0) for x in images]\n",
    "print('images blurred')"
   ]
  },
  {
   "cell_type": "code",
   "execution_count": 72,
   "metadata": {},
   "outputs": [
    {
     "name": "stdout",
     "output_type": "stream",
     "text": [
      "edge filter applied\n",
      "vertical filter applied\n",
      "edge filter applied\n",
      "horizontal filter applied\n",
      "blurred image borders is calculated\n",
      "--- 575.1750245094299 seconds ---\n"
     ]
    }
   ],
   "source": [
    "blurred, z_max = borders(blurred_img, filter_size = 2, stride = 2, pool_stride = 2, pool_size = 2, z_max = z_max)\n",
    "print('blurred image borders is calculated')\n",
    "\n",
    "print(\"--- %s seconds ---\" % (time.time() - start_time))"
   ]
  },
  {
   "cell_type": "code",
   "execution_count": 73,
   "metadata": {},
   "outputs": [],
   "source": [
    "freq = [np.mean(orig) / np.mean(blurred)for (orig, blurred) in zip(img, blurred)]"
   ]
  },
  {
   "cell_type": "code",
   "execution_count": null,
   "metadata": {},
   "outputs": [],
   "source": [
    "clar = pd.DataFrame([(1 if np.max(f) > 1 else 0, np.mean(f)) for f in freq], columns = ['is_unclarity', 'clarity'])\n",
    "clar['names'] = img_names\n",
    "clar = clar.sort_values('clarity').reset_index().reset_index()\n",
    "clar['file_name'] = '0000'\n",
    "clar.loc[(clar['level_0'] >= 10) & (clar['level_0'] < 100), 'file_name'] = '000'\n",
    "clar.loc[(clar['level_0'] >= 100) & (clar['level_0'] < 1000), 'file_name'] = '00'\n",
    "clar.loc[(clar['level_0'] >= 1000) & (clar['level_0'] < 10000), 'file_name'] = '0'\n",
    "clar['level_0'] = clar['level_0'].astype(str)\n",
    "clar['file_name'] = clar['file_name'] + clar['level_0'] + '-' + clar['names']\n",
    "clar = clar.sort_values('names').set_index('index')\n",
    "clar"
   ]
  },
  {
   "cell_type": "code",
   "execution_count": 58,
   "metadata": {},
   "outputs": [
    {
     "name": "stdout",
     "output_type": "stream",
     "text": [
      "All images are saved!!!\n"
     ]
    }
   ],
   "source": [
    "directory_to_save = 'C:\\\\'\n",
    "\n",
    "for i in range(len(images)): \n",
    "    plt.imsave(directory_to_save + clar.loc[i, 'file_name'], images[i])\n",
    "\n",
    "print('All images are saved!!!')"
   ]
  },
  {
   "cell_type": "code",
   "execution_count": null,
   "metadata": {},
   "outputs": [],
   "source": []
  }
 ],
 "metadata": {
  "kernelspec": {
   "display_name": "Python 3",
   "language": "python",
   "name": "python3"
  },
  "language_info": {
   "codemirror_mode": {
    "name": "ipython",
    "version": 3
   },
   "file_extension": ".py",
   "mimetype": "text/x-python",
   "name": "python",
   "nbconvert_exporter": "python",
   "pygments_lexer": "ipython3",
   "version": "3.7.4"
  }
 },
 "nbformat": 4,
 "nbformat_minor": 2
}
